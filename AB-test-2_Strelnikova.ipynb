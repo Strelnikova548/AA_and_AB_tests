{
 "cells": [
  {
   "cell_type": "code",
   "execution_count": 28,
   "id": "ef82060a-b1b2-45b0-8981-327a2693d608",
   "metadata": {},
   "outputs": [
    {
     "name": "stdout",
     "output_type": "stream",
     "text": [
      "Результаты до преобразования для 0 и 3: Ttest_indResult(statistic=-13.896870721904069, pvalue=1.055849414662529e-43)\n",
      "Результаты после для 0 и 3: Ttest_indResult(statistic=-15.21499546090383, pvalue=5.4914249479687664e-52)\n",
      "Результаты до преобразования для 1 и 2: Ttest_indResult(statistic=0.7094392041270486, pvalue=0.4780623130874935)\n",
      "Результаты после для 1 и 2: Ttest_indResult(statistic=6.122579994775972, pvalue=9.439432187037712e-10)\n"
     ]
    }
   ],
   "source": [
    "import pandas as pd\n",
    "import pandahouse as ph\n",
    "import random\n",
    "from scipy import stats\n",
    "import matplotlib.pyplot as plt\n",
    "connection = {'host': 'https://clickhouse.lab.karpov.courses',\n",
    "                      'database':'simulator_20220720',\n",
    "                      'user':'student', \n",
    "                      'password':''\n",
    "                     }\n",
    "\n",
    "\n",
    "def break_into_groups(n, connection):  #  создать датафреймы для каждой из групп\n",
    "    q = \"\"\"\n",
    "    SELECT exp_group, \n",
    "        user_id,\n",
    "        sum(action = 'like') as likes,\n",
    "        sum(action = 'view') as views,\n",
    "        likes/views as ctr\n",
    "    FROM {db}.feed_actions \n",
    "    WHERE toDate(time) between '2022-06-13' and '2022-06-19' \n",
    "        and exp_group==%s\n",
    "    GROUP BY exp_group, user_id\n",
    "    \"\"\" % n\n",
    "    df = ph.read_clickhouse(q, connection=connection)\n",
    "    return df\n",
    "'''\n",
    "def add_CTR(df, CTR_c, likes_count):\n",
    "    new_metric=[]\n",
    "    for i in range(1, likes_count):\n",
    "         new_metric[i]=df.likes[i]-𝐶𝑇𝑅_c∗df.views[i]\n",
    "    return new_metric\n",
    "'''\n",
    "\n",
    "\n",
    "def take_a_test(num_1, num_2):  #  функция проведение тестов, подавть на вход первым номер контрольной группы\n",
    "    df_1=break_into_groups(num_1, connection)\n",
    "    df_2=break_into_groups(num_2, connection)\n",
    "    𝐶𝑇𝑅𝑐𝑜𝑛𝑡𝑟𝑜𝑙_1=𝑠𝑢𝑚(df_1.𝑙𝑖𝑘𝑒𝑠)/𝑠𝑢𝑚(df_1.𝑣𝑖𝑒𝑤𝑠)\n",
    "    \n",
    "    df_1[\"linearized_likes\"] = df_1.likes - 𝐶𝑇𝑅𝑐𝑜𝑛𝑡𝑟𝑜𝑙_1 *df_1.views\n",
    "    df_2[\"linearized_likes\"] = df_2.likes - 𝐶𝑇𝑅𝑐𝑜𝑛𝑡𝑟𝑜𝑙_1 *df_2.views\n",
    "    \n",
    "    test_before = stats.ttest_ind(df_1.ctr, df_2.ctr, equal_var=False)\n",
    "    test_after = stats.ttest_ind(df_1.linearized_likes, df_2.linearized_likes, equal_var=False)\n",
    "    return test_before, test_after\n",
    "\n",
    "\n",
    "test_before_03, test_after_03 =  take_a_test(0, 3)  #  тест между группами 0 и 3\n",
    "print('Результаты до преобразования для 0 и 3:',test_before_03)\n",
    "print('Результаты после для 0 и 3:', test_after_03)\n",
    "\n",
    "test_before_12, test_after_12 =  take_a_test(1, 2)  #  тест между группами 1 и 2\n",
    "print('Результаты до преобразования для 1 и 2:',test_before_12)\n",
    "print('Результаты после для 1 и 2:', test_after_12)\n",
    "    \n"
   ]
  },
  {
   "cell_type": "markdown",
   "id": "1a04b530-4967-43f8-b2a1-ac7890fe5340",
   "metadata": {},
   "source": [
    "Для 0 и 3: 𝑝−𝑣𝑎𝑙𝑢𝑒 уменьшилось "
   ]
  },
  {
   "cell_type": "markdown",
   "id": "7e11e425-9981-44ba-a30b-ca1ba41e7322",
   "metadata": {},
   "source": [
    "Для 1 и 2: 𝑝−𝑣𝑎𝑙𝑢𝑒 уменьшилось "
   ]
  }
 ],
 "metadata": {
  "kernelspec": {
   "display_name": "Python 3 (ipykernel)",
   "language": "python",
   "name": "python3"
  },
  "language_info": {
   "codemirror_mode": {
    "name": "ipython",
    "version": 3
   },
   "file_extension": ".py",
   "mimetype": "text/x-python",
   "name": "python",
   "nbconvert_exporter": "python",
   "pygments_lexer": "ipython3",
   "version": "3.8.10"
  }
 },
 "nbformat": 4,
 "nbformat_minor": 5
}
