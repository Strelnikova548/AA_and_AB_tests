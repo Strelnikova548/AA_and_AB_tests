{
 "cells": [
  {
   "cell_type": "code",
   "execution_count": 2,
   "id": "ef82060a-b1b2-45b0-8981-327a2693d608",
   "metadata": {},
   "outputs": [
    {
     "name": "stdout",
     "output_type": "stream",
     "text": [
      "1.0 % p values  меньше либо равны 0.05\n"
     ]
    },
    {
     "data": {
      "image/png": "[encoded data removed]",
      "text/plain": [
       "<Figure size 432x288 with 1 Axes>"
      ]
     },
     "metadata": {
      "needs_background": "light"
     },
     "output_type": "display_data"
    }
   ],
   "source": [
    "import pandas as pd\n",
    "import pandahouse as ph\n",
    "import random\n",
    "from scipy import stats\n",
    "import matplotlib.pyplot as plt\n",
    "\n",
    "\n",
    "connection = {'host': 'https://clickhouse.lab.karpov.courses',\n",
    "                      'database':'simulator_20220720',\n",
    "                      'user':'student', \n",
    "                      'password':''\n",
    "                     }\n",
    "\n",
    "\n",
    "def break_into_groups(n, connection):  #  создать датафреймы для каждой из групп\n",
    "    q = \"\"\"\n",
    "    SELECT exp_group, \n",
    "        user_id,\n",
    "        sum(action = 'like') as likes,\n",
    "        sum(action = 'view') as views,\n",
    "        likes/views as ctr\n",
    "    FROM {db}.feed_actions \n",
    "    WHERE toDate(time) between '2022-06-06' and '2022-06-12' \n",
    "        and exp_group==%s\n",
    "    GROUP BY exp_group, user_id\n",
    "    \"\"\" % n\n",
    "    df = ph.read_clickhouse(q, connection=connection)\n",
    "    return df\n",
    "\n",
    "\n",
    "df_2=break_into_groups(2, connection)\n",
    "df_3=break_into_groups(3, connection)\n",
    "colone_ctr_2 = df_2['ctr'].tolist()\n",
    "colone_ctr_3 = df_3['ctr'].tolist()\n",
    "SUBSAMPLE_SIZE=500\n",
    "test_results=[]\n",
    "more=0  #  p values больше 0.05\n",
    "less=0  #  p values меньше либо равен 0.05\n",
    "\n",
    "\n",
    "def create_subsample(start_list, subsample_size):  # создать подвыборку из 500 элементов\n",
    "    new_list=set()\n",
    "    while len(new_list)<subsample_size: \n",
    "         new_list.add(start_list[random.randint(0,len(start_list)-1)])\n",
    "    return list(new_list)\n",
    "\n",
    "\n",
    "for i in range(0, 10000):  #  сравнить ctr двух групп и добавить p values в список\n",
    "    new_2=(create_subsample(colone_ctr_2, SUBSAMPLE_SIZE))\n",
    "    new_3=(create_subsample(colone_ctr_3, SUBSAMPLE_SIZE))\n",
    "    test_results.append(stats.ttest_ind(new_2, new_3, equal_var=False)[1])\n",
    "    \n",
    "plt.hist(test_results)\n",
    "\n",
    "for i in range(0, len(test_results)):\n",
    "    if test_results[i]>0.05:\n",
    "        more=more+1\n",
    "    else:\n",
    "        less=less+1\n",
    "        \n",
    "print(100*less/(less+more), \"% p values  меньше либо равны 0.05\" )\n",
    "\n",
    "\n",
    "\n",
    "\n",
    "\n"
   ]
  },
  {
   "cell_type": "markdown",
   "id": "623a12c2-b2cd-4b3f-b2bf-9a0ef6e2a091",
   "metadata": {},
   "source": [
    " Система сплитования работает корректно"
   ]
  }
 ],
 "metadata": {
  "kernelspec": {
   "display_name": "Python 3 (ipykernel)",
   "language": "python",
   "name": "python3"
  },
  "language_info": {
   "codemirror_mode": {
    "name": "ipython",
    "version": 3
   },
   "file_extension": ".py",
   "mimetype": "text/x-python",
   "name": "python",
   "nbconvert_exporter": "python",
   "pygments_lexer": "ipython3",
   "version": "3.8.10"
  }
 },
 "nbformat": 4,
 "nbformat_minor": 5
}
