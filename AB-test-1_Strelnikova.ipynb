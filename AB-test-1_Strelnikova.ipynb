{
 "cells": [
  {
   "cell_type": "code",
   "execution_count": 11,
   "id": "87ca50b8-d888-407b-8052-6f2d44d54968",
   "metadata": {},
   "outputs": [
    {
     "name": "stdout",
     "output_type": "stream",
     "text": [
      "MannwhitneyuResult(statistic=43704947.5, pvalue=6.0376484617779035e-56)\n"
     ]
    },
    {
     "data": {
      "image/png": "[encoded data removed]",
      "text/plain": [
       "<Figure size 432x288 with 1 Axes>"
      ]
     },
     "metadata": {
      "needs_background": "light"
     },
     "output_type": "display_data"
    }
   ],
   "source": [
    "import pandas as pd\n",
    "import pandahouse as ph\n",
    "import random\n",
    "from scipy import stats\n",
    "import matplotlib.pyplot as plt\n",
    "import seaborn as sns\n",
    "\n",
    "connection = {'host': 'https://clickhouse.lab.karpov.courses',\n",
    "                      'database':'simulator_20220720',\n",
    "                      'user':'student', \n",
    "                      'password':''\n",
    "                     }\n",
    "\n",
    "\n",
    "def break_into_groups(n, connection):  #  создать датафреймы для каждой из групп\n",
    "    q = \"\"\"\n",
    "    SELECT exp_group, \n",
    "        user_id,\n",
    "        sum(action = 'like') as likes,\n",
    "        sum(action = 'view') as views,\n",
    "        likes/views as ctr\n",
    "    FROM {db}.feed_actions \n",
    "    WHERE toDate(time) between '2022-06-13' and '2022-06-19' \n",
    "        and exp_group==%s\n",
    "    GROUP BY exp_group, user_id\n",
    "    \"\"\" % n\n",
    "    df = ph.read_clickhouse(q, connection=connection)\n",
    "    return df\n",
    "\n",
    "\n",
    "df_2=break_into_groups(2, connection)\n",
    "df_1=break_into_groups(1, connection)\n",
    "\n",
    "print(stats.mannwhitneyu(df_2.ctr,df_1.ctr))\n",
    "groups = sns.histplot(df_1.ctr)\n",
    "groups = sns.histplot(df_2.ctr)\n"
   ]
  },
  {
   "cell_type": "markdown",
   "id": "87992dff-ac3e-43ca-9ef0-4fabc87f3490",
   "metadata": {},
   "source": [
    "Не использую t-тест тк распределение ctr во второй двугорбое"
   ]
  },
  {
   "cell_type": "markdown",
   "id": "04d7eb15-86b4-49a1-8e7f-541d3fcc25fc",
   "metadata": {},
   "source": [
    "Не стоит применять этот алгоритм для всех пользователей, поскольку по результатам теста значительная часть пользователей из второй группы стала ставить меньше лайков"
   ]
  },
  {
   "cell_type": "code",
   "execution_count": null,
   "id": "69a9de4a-cd28-47ed-be7b-0990922f9944",
   "metadata": {},
   "outputs": [],
   "source": []
  }
 ],
 "metadata": {
  "kernelspec": {
   "display_name": "Python 3 (ipykernel)",
   "language": "python",
   "name": "python3"
  },
  "language_info": {
   "codemirror_mode": {
    "name": "ipython",
    "version": 3
   },
   "file_extension": ".py",
   "mimetype": "text/x-python",
   "name": "python",
   "nbconvert_exporter": "python",
   "pygments_lexer": "ipython3",
   "version": "3.8.10"
  }
 },
 "nbformat": 4,
 "nbformat_minor": 5
}
